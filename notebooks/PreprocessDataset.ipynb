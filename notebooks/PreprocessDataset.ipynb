{
 "cells": [
  {
   "cell_type": "code",
   "execution_count": 17,
   "id": "a3ac4cfe-afbf-4259-9cd5-5ba6bda9a4d4",
   "metadata": {},
   "outputs": [],
   "source": [
    "import json\n",
    "from pathlib import Path\n",
    "import numpy as np\n",
    "from PIL import Image\n",
    "from collections import defaultdict"
   ]
  },
  {
   "cell_type": "code",
   "execution_count": 2,
   "id": "4fdef651-454f-49b2-8320-0132fbc50152",
   "metadata": {},
   "outputs": [],
   "source": [
    "data_path = Path(\"/mnt/vol_c/data/3d-future/\")"
   ]
  },
  {
   "cell_type": "code",
   "execution_count": 3,
   "id": "0b05e3a0-8a5b-465b-b6a7-da54ebbd710d",
   "metadata": {},
   "outputs": [],
   "source": [
    "meta = json.loads((data_path / \"meta_data/split/train_all.json\").read_text())"
   ]
  },
  {
   "cell_type": "code",
   "execution_count": 4,
   "id": "10e8ebab-96d5-442d-bb20-6c8725b3f581",
   "metadata": {},
   "outputs": [
    {
     "data": {
      "text/plain": [
       "16563"
      ]
     },
     "execution_count": 4,
     "metadata": {},
     "output_type": "execute_result"
    }
   ],
   "source": [
    "threedfuture = list(filter(lambda d: d['dataset'] == '3D-FUTURE', meta))\n",
    "len(threedfuture)"
   ]
  },
  {
   "cell_type": "code",
   "execution_count": 5,
   "id": "ab43e6ed-6631-4ffb-aa5d-e8b069c5701e",
   "metadata": {},
   "outputs": [],
   "source": [
    "for d in threedfuture:\n",
    "    d['data_path'] = d['data_path'].replace('/mnt/data/', '/mnt/vol_c/data/3d-future/')"
   ]
  },
  {
   "cell_type": "code",
   "execution_count": 6,
   "id": "a3918dc2-edd9-4f97-8705-858f77fedeb8",
   "metadata": {},
   "outputs": [
    {
     "data": {
      "text/plain": [
       "16563"
      ]
     },
     "execution_count": 6,
     "metadata": {},
     "output_type": "execute_result"
    }
   ],
   "source": [
    "all_objects = []\n",
    "for m in threedfuture:\n",
    "    dict = np.load(m['data_path'], allow_pickle=True)[()]\n",
    "    all_objects.append(dict)\n",
    "\n",
    "len(all_objects)"
   ]
  },
  {
   "cell_type": "code",
   "execution_count": 7,
   "id": "71c31007-9d77-4a3c-892b-149d6fe5f608",
   "metadata": {},
   "outputs": [],
   "source": [
    "type = \"armchair\"\n",
    "views_per_object = 4 # out of 12 possible\n",
    "file_name = \"armchairs\""
   ]
  },
  {
   "cell_type": "code",
   "execution_count": 8,
   "id": "c0986f7e-8c59-43ee-bd9f-efa0e35c6f53",
   "metadata": {},
   "outputs": [
    {
     "data": {
      "text/plain": [
       "751"
      ]
     },
     "execution_count": 8,
     "metadata": {},
     "output_type": "execute_result"
    }
   ],
   "source": [
    "objects = list(filter(lambda x: x['text'][0] == type, all_objects))\n",
    "len(objects)"
   ]
  },
  {
   "cell_type": "code",
   "execution_count": 11,
   "id": "df6ff5b2-bce4-4b0b-85be-b20fffc822bd",
   "metadata": {},
   "outputs": [
    {
     "data": {
      "text/plain": [
       "{'dataset': '3D-FUTURE',\n",
       " 'group': '',\n",
       " 'id': '5554e6fe-082d-31ce-a307-0394e3d80206',\n",
       " 'text': ['armchair', 'armchair, Southeast Asia, Smooth Net, Leather'],\n",
       " 'text_feat': [{'original': array([[ 0.30552682,  0.23419845,  0.6894305 , ..., -1.4306782 ,\n",
       "           -0.3754994 , -1.2304761 ]], dtype=float32),\n",
       "   'prompt_avg': array([[-0.2673788 ,  0.3053051 , -0.1786079 , ..., -0.7090513 ,\n",
       "           -2.2703962 , -0.17871311]], dtype=float32)},\n",
       "  {'original': array([[ 1.4308784 , -0.1345261 , -0.74500465, ..., -0.88641554,\n",
       "           -1.4061755 , -0.94789904]], dtype=float32),\n",
       "   'prompt_avg': array([[ 1.1871456 ,  0.06281681, -0.58862805, ..., -0.86801815,\n",
       "           -1.3048692 , -0.6447348 ]], dtype=float32)}],\n",
       " 'blip_caption': 'a gray couch on a white background',\n",
       " 'blip_caption_feat': {'original': array([[ 0.42915505,  0.9947657 , -0.8185683 , ..., -0.95932794,\n",
       "          -0.94799805,  0.32492948]], dtype=float32),\n",
       "  'prompt_avg': array([[ 0.07374929,  0.7686799 , -0.5967371 , ..., -0.7051179 ,\n",
       "          -1.2480882 , -0.05506334]], dtype=float32)},\n",
       " 'msft_caption': 'a grey couch with a black background',\n",
       " 'msft_caption_feat': {'original': array([[ 0.27077428,  0.90536654,  0.23225921, ..., -1.9782033 ,\n",
       "          -1.4003206 ,  0.8090559 ]], dtype=float32),\n",
       "  'prompt_avg': array([[-0.2588855 ,  0.36548072, -0.28191805, ..., -1.6020309 ,\n",
       "          -1.7748035 ,  0.7805942 ]], dtype=float32)},\n",
       " 'retrieval_text': ['Faux Leather Storage Bench',\n",
       "  'Designed2B Felix Textured Polyester Curved Wedge - Plush Pewter|Fauteuil courbé en coin Felix Design à mon image en polyester texturé  - Plush étain|FE842379',\n",
       "  'Reclining Seat',\n",
       "  'Blender Chair Model 2 by Philis3D-Stock',\n",
       "  'Laredo Black Leather Chair (Accent Furnishings)',\n",
       "  'Chinese brown sofa fashion',\n",
       "  'Mags Soft Low Sectional with Left Chaise, Linara - Blueberry',\n",
       "  'Designed2B Felix Textured Polyester Curved Wedge - Plush Chocolate|Fauteuil courbé en coin Felix Design à mon image en polyester texturé  - Plush chocolat|FE842479',\n",
       "  'Revit, BIM, Furniture, Family, UK, British, Furnishings, Seating, Interior, Design, Assemblyroom, assembly, room, sofa, Finsbury',\n",
       "  '3d chair model',\n",
       "  'Juno modular - Corner End Seat, Seafoam Blue Velvet',\n",
       "  'furniture 3d 3ds',\n",
       "  'Portola Sectional - Ultrasuede',\n",
       "  'Sofa Fortune (Verde scuro)',\n",
       "  'Florense Modula - Kit 1,5 Lugar Direito Braço 170mm 1160x595x940',\n",
       "  'chair sofa 3d model - Furniture... by jpwood78'],\n",
       " 'retrieval_text_feat': [{'original': array([[ 0.28510052,  1.321837  , -0.10618699, ..., -1.5951905 ,\n",
       "           -1.8763463 ,  0.8925196 ]], dtype=float32)},\n",
       "  {'original': array([[ 0.02858897, -0.7237967 , -0.83882254, ..., -0.2315082 ,\n",
       "            0.31391746,  1.1894257 ]], dtype=float32)},\n",
       "  {'original': array([[ 1.0700172 ,  0.50323796,  0.0586431 , ..., -1.5071976 ,\n",
       "           -0.37291795, -0.40462875]], dtype=float32)},\n",
       "  {'original': array([[-0.14991786,  1.002674  , -0.9520857 , ..., -1.4734652 ,\n",
       "           -0.08962262, -1.0145508 ]], dtype=float32)},\n",
       "  {'original': array([[ 0.01312029, -0.06448215, -0.9268234 , ..., -0.49236193,\n",
       "           -1.1381791 , -0.8034272 ]], dtype=float32)},\n",
       "  {'original': array([[-1.305659  ,  1.0776412 , -0.7310232 , ..., -0.6001308 ,\n",
       "           -0.12119153, -0.0378105 ]], dtype=float32)},\n",
       "  {'original': array([[ 0.16748361, -0.11123264,  0.11795861, ..., -0.6226887 ,\n",
       "           -2.9796815 ,  0.7337109 ]], dtype=float32)},\n",
       "  {'original': array([[-0.3742956 , -0.6519389 , -0.86569476, ...,  0.22817451,\n",
       "            1.378368  ,  0.67066294]], dtype=float32)},\n",
       "  {'original': array([[-0.48437357, -0.04123867,  1.1550181 , ..., -2.4064517 ,\n",
       "           -0.64337134, -1.6748259 ]], dtype=float32)},\n",
       "  {'original': array([[-0.14856482,  0.35517773, -0.31086802, ..., -1.7658799 ,\n",
       "           -1.2761531 , -0.71974105]], dtype=float32)},\n",
       "  {'original': array([[-0.00378372,  0.4048971 , -1.3185921 , ..., -1.5344958 ,\n",
       "           -0.7789751 , -0.27419   ]], dtype=float32)},\n",
       "  {'original': array([[-0.63258994,  0.16955614, -1.2306119 , ..., -1.2547752 ,\n",
       "           -1.2470373 ,  0.36742237]], dtype=float32)},\n",
       "  {'original': array([[ 0.31895214, -0.16179894, -1.0361263 , ..., -0.6996794 ,\n",
       "           -0.60285395,  0.65559137]], dtype=float32)},\n",
       "  {'original': array([[-0.9815898 ,  0.37501734, -1.3970397 , ..., -0.49119893,\n",
       "           -1.8557358 , -0.24771515]], dtype=float32)},\n",
       "  {'original': array([[-0.10177433, -0.41893148, -1.6013501 , ..., -1.1426885 ,\n",
       "           -1.4206959 ,  0.4618989 ]], dtype=float32)},\n",
       "  {'original': array([[-0.33836955,  0.15596628,  0.18524496, ..., -1.110079  ,\n",
       "           -0.9043395 , -1.0887439 ]], dtype=float32)}],\n",
       " 'xyz': array([[-0.3882  ,  0.2169  , -0.2776  ],\n",
       "        [ 0.477   , -0.006405, -0.1575  ],\n",
       "        [-0.4846  , -0.1981  ,  0.2216  ],\n",
       "        ...,\n",
       "        [ 0.761   ,  0.076   ,  0.2274  ],\n",
       "        [-0.387   ,  0.02348 , -0.0964  ],\n",
       "        [-0.1691  , -0.0602  , -0.501   ]], dtype=float16),\n",
       " 'rgb': array([[0.014725, 0.014725, 0.014725],\n",
       "        [0.0196  , 0.0196  , 0.0196  ],\n",
       "        [0.03485 , 0.03485 , 0.03485 ],\n",
       "        ...,\n",
       "        [0.2793  , 0.2832  , 0.291   ],\n",
       "        [0.2089  , 0.1932  , 0.1893  ],\n",
       "        [0.2864  , 0.2903  , 0.298   ]], dtype=float16),\n",
       " 'image_feat': array([[-0.4672318 ,  0.83471763, -0.11361866, ..., -1.7049938 ,\n",
       "         -0.8052086 ,  0.49001163],\n",
       "        [-0.54797083,  0.91462076,  0.18140845, ..., -2.0375493 ,\n",
       "         -1.2202066 ,  1.29091   ],\n",
       "        [-0.5197326 ,  0.45648897,  0.41725034, ..., -1.9679538 ,\n",
       "         -1.6601459 ,  0.5610049 ],\n",
       "        ...,\n",
       "        [-0.953567  , -0.63627505, -0.7454884 , ..., -1.1597576 ,\n",
       "          0.29826608,  1.1733799 ],\n",
       "        [-1.1870493 ,  0.5142381 ,  0.90555227, ..., -1.4457998 ,\n",
       "          0.47993708,  1.1043786 ],\n",
       "        [-0.477429  ,  1.986004  , -0.21821856, ..., -1.3147823 ,\n",
       "         -0.92677706,  1.5072055 ]], dtype=float32)}"
      ]
     },
     "execution_count": 11,
     "metadata": {},
     "output_type": "execute_result"
    }
   ],
   "source": [
    "objects[0]"
   ]
  },
  {
   "cell_type": "code",
   "execution_count": 12,
   "id": "8895e20e-1dc5-4b6f-9cb6-e62a7fe6ab86",
   "metadata": {},
   "outputs": [],
   "source": [
    "import random\n",
    "\n",
    "shuffled = random.shuffle(objects)\n",
    "\n",
    "split_idx = int(0.75*len(objects))\n",
    "train = objects[:split_idx]\n",
    "test = objects[split_idx:]"
   ]
  },
  {
   "cell_type": "code",
   "execution_count": 13,
   "id": "440769dc-78e4-4cb0-a179-6e1247adb848",
   "metadata": {},
   "outputs": [
    {
     "data": {
      "text/plain": [
       "563"
      ]
     },
     "execution_count": 13,
     "metadata": {},
     "output_type": "execute_result"
    }
   ],
   "source": [
    "len(train)"
   ]
  },
  {
   "cell_type": "code",
   "execution_count": 14,
   "id": "49d5ee1c-1e56-449e-87e8-bcbb6acfea47",
   "metadata": {},
   "outputs": [
    {
     "data": {
      "text/plain": [
       "188"
      ]
     },
     "execution_count": 14,
     "metadata": {},
     "output_type": "execute_result"
    }
   ],
   "source": [
    "len(test)"
   ]
  },
  {
   "cell_type": "code",
   "execution_count": 21,
   "id": "25d2794e-65bc-442a-9d8f-c6855f6eee93",
   "metadata": {},
   "outputs": [],
   "source": [
    "def sample_views(objects: list[dict]) -> list[dict]:\n",
    "    data = []\n",
    "    freq = defaultdict(int)\n",
    "    for obj in objects:\n",
    "        id = obj['id']\n",
    "        text = obj['text'][1]\n",
    "        freq[text.count(',')] += 1\n",
    "        pointcloud = obj['xyz']\n",
    "        if not (data_path / id).exists():\n",
    "            continue\n",
    "        if text.count(',') != 3:\n",
    "            continue\n",
    "        views = random.choices(list(range(8)), k=views_per_object)\n",
    "        for view in views:\n",
    "            image = np.array(Image.open(data_path / id / f\"colors_{view}.png\"))\n",
    "            if np.count_nonzero(image[:, :, 3]) == 0:\n",
    "                print(id)\n",
    "                continue\n",
    "            data.append({\n",
    "                'id': id,\n",
    "                'text': text,\n",
    "                'view': view,\n",
    "                'pointcloud': pointcloud\n",
    "            })\n",
    "    print(freq)\n",
    "    random.shuffle(data)\n",
    "    return data"
   ]
  },
  {
   "cell_type": "code",
   "execution_count": 22,
   "id": "c8c26176-8bab-4afd-b300-fa8c5b72ade0",
   "metadata": {},
   "outputs": [
    {
     "name": "stdout",
     "output_type": "stream",
     "text": [
      "5eabe872-cabc-3c9a-8a0e-0fc3c375d60c\n",
      "5eabe872-cabc-3c9a-8a0e-0fc3c375d60c\n",
      "5eabe872-cabc-3c9a-8a0e-0fc3c375d60c\n",
      "5eabe872-cabc-3c9a-8a0e-0fc3c375d60c\n",
      "195d7577-46eb-331d-afb2-5213917aa50d\n",
      "195d7577-46eb-331d-afb2-5213917aa50d\n",
      "195d7577-46eb-331d-afb2-5213917aa50d\n",
      "195d7577-46eb-331d-afb2-5213917aa50d\n",
      "7ff61f65-2460-37db-bb55-4da380a92de1\n",
      "7ff61f65-2460-37db-bb55-4da380a92de1\n",
      "7ff61f65-2460-37db-bb55-4da380a92de1\n",
      "7ff61f65-2460-37db-bb55-4da380a92de1\n",
      "85088488-cf38-3193-ad59-0363a33681c3\n",
      "85088488-cf38-3193-ad59-0363a33681c3\n",
      "85088488-cf38-3193-ad59-0363a33681c3\n",
      "85088488-cf38-3193-ad59-0363a33681c3\n",
      "7eb8707b-2853-3455-9c6f-09313fc2b4e0\n",
      "7eb8707b-2853-3455-9c6f-09313fc2b4e0\n",
      "7eb8707b-2853-3455-9c6f-09313fc2b4e0\n",
      "7eb8707b-2853-3455-9c6f-09313fc2b4e0\n",
      "6494f33c-0c80-3b87-934f-2645b515f81b\n",
      "6494f33c-0c80-3b87-934f-2645b515f81b\n",
      "6494f33c-0c80-3b87-934f-2645b515f81b\n",
      "6494f33c-0c80-3b87-934f-2645b515f81b\n",
      "4159b181-95ea-3f6a-b68b-8131e75c755e\n",
      "4159b181-95ea-3f6a-b68b-8131e75c755e\n",
      "4159b181-95ea-3f6a-b68b-8131e75c755e\n",
      "4159b181-95ea-3f6a-b68b-8131e75c755e\n",
      "43af331b-5743-38a3-a6f0-dd927378bcbb\n",
      "43af331b-5743-38a3-a6f0-dd927378bcbb\n",
      "43af331b-5743-38a3-a6f0-dd927378bcbb\n",
      "43af331b-5743-38a3-a6f0-dd927378bcbb\n",
      "defaultdict(<class 'int'>, {3: 556, 1: 7})\n"
     ]
    },
    {
     "data": {
      "text/plain": [
       "2192"
      ]
     },
     "execution_count": 22,
     "metadata": {},
     "output_type": "execute_result"
    }
   ],
   "source": [
    "train_final = sample_views(train)\n",
    "len(train_final)"
   ]
  },
  {
   "cell_type": "code",
   "execution_count": 23,
   "id": "db5e3fd9-6ab5-4043-9cd6-0e8d55c788c2",
   "metadata": {},
   "outputs": [
    {
     "name": "stdout",
     "output_type": "stream",
     "text": [
      "4ecfdba8-5420-343d-af07-cbf6df2facc6\n",
      "4ecfdba8-5420-343d-af07-cbf6df2facc6\n",
      "4ecfdba8-5420-343d-af07-cbf6df2facc6\n",
      "4ecfdba8-5420-343d-af07-cbf6df2facc6\n",
      "4b9c54b8-2b9f-3da6-8395-b13dbe268eee\n",
      "4b9c54b8-2b9f-3da6-8395-b13dbe268eee\n",
      "4b9c54b8-2b9f-3da6-8395-b13dbe268eee\n",
      "4b9c54b8-2b9f-3da6-8395-b13dbe268eee\n",
      "defaultdict(<class 'int'>, {3: 185, 1: 3})\n"
     ]
    },
    {
     "data": {
      "text/plain": [
       "728"
      ]
     },
     "execution_count": 23,
     "metadata": {},
     "output_type": "execute_result"
    }
   ],
   "source": [
    "test_final = sample_views(test)\n",
    "len(test_final)"
   ]
  },
  {
   "cell_type": "code",
   "execution_count": 24,
   "id": "2afd5ef6-f07b-4067-994e-2eb67ed2e05d",
   "metadata": {},
   "outputs": [],
   "source": [
    "dataset = {\n",
    "    'train': train_final,\n",
    "    'test': test_final\n",
    "}"
   ]
  },
  {
   "cell_type": "code",
   "execution_count": 25,
   "id": "ebd0dc69-bd08-4698-8f28-95f3a2002fd1",
   "metadata": {},
   "outputs": [],
   "source": [
    "import pickle\n",
    "\n",
    "with open(data_path / (file_name + '.pkl'), 'wb') as f:\n",
    "    pickle.dump(dataset, f)"
   ]
  },
  {
   "cell_type": "code",
   "execution_count": null,
   "id": "0ea82041-f52d-4cea-8281-9fbd638551b2",
   "metadata": {},
   "outputs": [],
   "source": []
  }
 ],
 "metadata": {
  "kernelspec": {
   "display_name": "Python 3 (ipykernel)",
   "language": "python",
   "name": "python3"
  },
  "language_info": {
   "codemirror_mode": {
    "name": "ipython",
    "version": 3
   },
   "file_extension": ".py",
   "mimetype": "text/x-python",
   "name": "python",
   "nbconvert_exporter": "python",
   "pygments_lexer": "ipython3",
   "version": "3.9.18"
  }
 },
 "nbformat": 4,
 "nbformat_minor": 5
}
