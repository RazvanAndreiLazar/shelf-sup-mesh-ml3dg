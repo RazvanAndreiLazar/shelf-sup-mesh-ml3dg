{
 "cells": [
  {
   "cell_type": "code",
   "execution_count": 1,
   "id": "e2a2b462-3df0-4dfd-9fe5-0e715b64f00c",
   "metadata": {},
   "outputs": [],
   "source": [
    "import json\n",
    "from PIL import Image\n",
    "from pathlib import Path\n",
    "import numpy as np\n",
    "from collections import defaultdict"
   ]
  },
  {
   "cell_type": "code",
   "execution_count": 2,
   "id": "44d29ba0-1155-4437-9bba-7334f792f776",
   "metadata": {},
   "outputs": [],
   "source": [
    "data_path = Path(\"/mnt/vol_c/data/3d-future/\")"
   ]
  },
  {
   "cell_type": "code",
   "execution_count": 3,
   "id": "3312ec9d-1b6e-4dcd-a40d-8d2249d95a11",
   "metadata": {},
   "outputs": [],
   "source": [
    "meta = json.loads((data_path / \"meta_data/split/train_all.json\").read_text())"
   ]
  },
  {
   "cell_type": "code",
   "execution_count": 4,
   "id": "556e1378-118b-4fb4-bfd9-191b39096da8",
   "metadata": {},
   "outputs": [],
   "source": [
    "meta = list(filter(lambda d: d['dataset'] == '3D-FUTURE', meta))"
   ]
  },
  {
   "cell_type": "code",
   "execution_count": 5,
   "id": "4eec48af-5968-4e54-8797-118b9bd0f5ba",
   "metadata": {},
   "outputs": [
    {
     "data": {
      "text/plain": [
       "{'dataset': '3D-FUTURE',\n",
       " 'id': '0847625f-4895-4290-a1cb-a9c795c4b53e',\n",
       " 'group': '',\n",
       " 'data_path': '/mnt/data/objaverse-processed/merged_for_training_final/3D-FUTURE//0847625f-4895-4290-a1cb-a9c795c4b53e.npy'}"
      ]
     },
     "execution_count": 5,
     "metadata": {},
     "output_type": "execute_result"
    }
   ],
   "source": [
    "meta[0]"
   ]
  },
  {
   "cell_type": "code",
   "execution_count": 6,
   "id": "5c150c51-e6b2-455b-a55f-e2c89b706b4d",
   "metadata": {},
   "outputs": [],
   "source": [
    "for d in meta:\n",
    "    d['data_path'] = d['data_path'].replace('/mnt/data/', '/mnt/vol_c/data/3d-future/')"
   ]
  },
  {
   "cell_type": "code",
   "execution_count": 7,
   "id": "ccdc9eaa-7f48-4b94-a0ac-a040db922e24",
   "metadata": {},
   "outputs": [
    {
     "data": {
      "text/plain": [
       "{'dataset': '3D-FUTURE',\n",
       " 'id': '0847625f-4895-4290-a1cb-a9c795c4b53e',\n",
       " 'group': '',\n",
       " 'data_path': '/mnt/vol_c/data/3d-future/objaverse-processed/merged_for_training_final/3D-FUTURE//0847625f-4895-4290-a1cb-a9c795c4b53e.npy'}"
      ]
     },
     "execution_count": 7,
     "metadata": {},
     "output_type": "execute_result"
    }
   ],
   "source": [
    "meta[0]"
   ]
  },
  {
   "cell_type": "code",
   "execution_count": 8,
   "id": "9df640a4-73dc-4836-ae6b-dbec2b507174",
   "metadata": {},
   "outputs": [
    {
     "data": {
      "text/plain": [
       "defaultdict(int,\n",
       "            {'King-size Bed': 440,\n",
       "             'Sideboard / Side Cabinet / Console': 244,\n",
       "             'Dressing Chair': 75,\n",
       "             'Wardrobe': 476,\n",
       "             'Pendant Lamp': 1152,\n",
       "             'Lounge Chair / Cafe Chair / Office Chair': 585,\n",
       "             'Children Cabinet': 352,\n",
       "             'L-shaped Sofa': 245,\n",
       "             'Ceiling Lamp': 512,\n",
       "             'Loveseat Sofa': 472,\n",
       "             'Drawer Chest / Corner cabinet': 509,\n",
       "             ', Modern': 991,\n",
       "             'Corner/Side Table': 718,\n",
       "             'Dining Table': 517,\n",
       "             'armchair': 751,\n",
       "             'Wine Cabinet': 114,\n",
       "             'Coffee Table': 684,\n",
       "             'Kids Bed': 118,\n",
       "             'Dining Chair': 543,\n",
       "             'Footstool / Sofastool / Bed End Stool / Stool': 570,\n",
       "             'Barstool': 191,\n",
       "             'Lazy Sofa': 112,\n",
       "             'Round End Table': 99,\n",
       "             'Three-Seat / Multi-seat Sofa': 852,\n",
       "             'Bed Frame': 203,\n",
       "             'Double Bed': 141,\n",
       "             'Shoe Cabinet': 83,\n",
       "             'Folding chair': 26,\n",
       "             'Nightstand': 538,\n",
       "             'Bookcase / jewelry Armoire': 439,\n",
       "             'Sideboard / Side Cabinet / Console Table': 458,\n",
       "             'Floor Lamp': 252,\n",
       "             'Dressing Table': 142,\n",
       "             'TV Stand': 529,\n",
       "             'Tea Table': 120,\n",
       "             'Three-Seat / Multi-person sofa': 129,\n",
       "             'Desk': 356,\n",
       "             'Lounge Chair / Book-chair / Computer Chair': 325,\n",
       "             'Single bed': 135,\n",
       "             'Shelf': 275,\n",
       "             'Bunk Bed': 66,\n",
       "             ', Others': 205,\n",
       "             ', New Chinese': 106,\n",
       "             'Two-seat Sofa': 22,\n",
       "             ', European Classic': 72,\n",
       "             ', Nordic': 111,\n",
       "             'Bar': 47,\n",
       "             ', Neoclassical': 53,\n",
       "             ', Light Luxury, Gold Foil, Metal': 2,\n",
       "             ', Minimalist': 16,\n",
       "             'Wine Cooler': 111,\n",
       "             ', American Country': 30,\n",
       "             'Chaise Longue Sofa': 25,\n",
       "             ', Korean, Wooden Vertical Texture, Composition': 1,\n",
       "             ', Industrial, Wrought Iron, Metal': 2,\n",
       "             ', Minimalist, Rivet, Metal': 1,\n",
       "             ', Southeast Asia': 19,\n",
       "             ', Vintage/Retro': 4,\n",
       "             ', Industrial, Smooth Net, Metal': 2,\n",
       "             'Hanging Chair': 14,\n",
       "             ', Mediterranean': 13,\n",
       "             ', Light Luxury, Gold Foil, Cloth': 1,\n",
       "             'Classic Chinese Chair': 16,\n",
       "             ', Korean, Smooth Net, Composition': 2,\n",
       "             ', Korean': 4,\n",
       "             'Wall Lamp': 5,\n",
       "             ', Japanese, Texture Mark, Plywood': 2,\n",
       "             ', Industrial, Smooth Net, Composition': 3,\n",
       "             ', Ming Qing, Floral, Others': 1,\n",
       "             ', Korean, Wooden Vertical Texture, Others': 1,\n",
       "             ', Industrial, Wrought Iron, Others': 1,\n",
       "             'Couch Bed': 14,\n",
       "             ', Mediterranean, Smooth Net, Leather': 1,\n",
       "             ', Industrial': 6,\n",
       "             'U-shaped Sofa': 10,\n",
       "             ', Mediterranean, Wooden Vertical Texture, Composition': 1,\n",
       "             ', Industrial, Texture Mark, Stone': 1,\n",
       "             ', Modern, Smooth Net, Leather': 3,\n",
       "             ', Modern, Gold Foil, Composition': 1,\n",
       "             ', Industrial, Gold Foil, Stone': 1,\n",
       "             ', Minimalist, Smooth Net, Cloth': 2,\n",
       "             ', Others, Inlay Gold Carve, Solid Wood': 1,\n",
       "             ', Japanese': 15,\n",
       "             ', Neoclassical, Inlay Gold Carve, Solid Wood': 1,\n",
       "             ', Industrial, Chinese Pattern, Bamboo Rattan': 1,\n",
       "             ', Light Luxury, Soft Case, Suede': 1,\n",
       "             ', Neoclassical, Floral, Solid Wood': 1,\n",
       "             ', Modern, Smooth Net, Composition': 8,\n",
       "             ', Minimalist, Wooden Vertical Texture, Composition': 1,\n",
       "             ', Modern, Smooth Net, Cloth': 5,\n",
       "             ', Ming Qing, Smooth Net, Plywood': 1,\n",
       "             ', Industrial, Chinese Pattern, Metal': 3,\n",
       "             ', Minimalist, Texture Mark, Stone': 1,\n",
       "             ', Modern, Wooden Vertical Texture, Plywood': 1,\n",
       "             ', American Country, Texture Mark, Solid Wood': 1,\n",
       "             ', Ming Qing, Texture Mark, Solid Wood': 1,\n",
       "             ', Southeast Asia, Chinese Pattern, Solid Wood': 2,\n",
       "             ', Modern, Lines, Cloth': 2,\n",
       "             ', American Country, Gold Foil, Composition': 1,\n",
       "             ', Mediterranean, Inlay Gold Carve, Solid Wood': 1,\n",
       "             ', Vintage/Retro, Texture Mark, Solid Wood': 1,\n",
       "             ', Modern, Striped Grid, Cloth': 1,\n",
       "             ', Neoclassical, Wooden Vertical Texture, Solid Wood': 1,\n",
       "             ', American Country, Smooth Net, Cloth': 1,\n",
       "             ', Minimalist, Gold Foil, Composition': 1,\n",
       "             ', Japanese, Inlay Gold Carve, Solid Wood': 1,\n",
       "             ', Southeast Asia, Texture Mark, Solid Wood': 1,\n",
       "             ', Modern, Floral, Cloth': 1,\n",
       "             ', Minimalist, Graffiti Ink Stain, Others': 1,\n",
       "             ', Minimalist, Striped Grid, Cloth': 1,\n",
       "             ', Light Luxury, Lines, Composition': 1,\n",
       "             ', Industrial, Chinese Pattern, Suede': 1,\n",
       "             ', Minimalist, Smooth Net, Composition': 1,\n",
       "             ', Japanese, Floral, Composition': 1,\n",
       "             ', Vintage/Retro, Smooth Net, Composition': 1,\n",
       "             ', Korean, Wooden Vertical Texture, Solid Wood': 1,\n",
       "             ', Ming Qing, Cartoon, Solid Wood': 1,\n",
       "             ', Korean, Lines, Leather': 1,\n",
       "             ', Japanese, Gold Foil, Plywood': 1,\n",
       "             ', Industrial, Granite Texture, Metal': 1,\n",
       "             ', Industrial, Striped Grid, Others': 1,\n",
       "             ', Japanese, Lines, Cloth': 1,\n",
       "             ', American Country, Striped Grid, Cloth': 1,\n",
       "             ', Minimalist, Wrought Iron, Others': 1,\n",
       "             ', Light Luxury, Gold Foil, Solid Wood': 1,\n",
       "             ', Minimalist, Smooth Net, Metal': 1,\n",
       "             ', Southeast Asia, Gold Foil, Composition': 1,\n",
       "             ', Minimalist, Smooth Net, Stone': 1,\n",
       "             ', Minimalist, Smooth Net, Solid Wood': 1,\n",
       "             ', Minimalist, Texture Mark, Solid Wood': 1,\n",
       "             ', Vintage/Retro, Smooth Net, Leather': 1,\n",
       "             ', Industrial, Wrought Iron, Cloth': 1,\n",
       "             ', Others, Smooth Net, Glass': 1,\n",
       "             ', New Chinese, Smooth Net, Solid Wood': 1,\n",
       "             ', Light Luxury': 1,\n",
       "             ', Korean, Wooden Vertical Texture, Plywood': 1,\n",
       "             ', Industrial, Wooden Vertical Texture, Plywood': 1,\n",
       "             ', Korean, Wrought Iron, Cloth': 1,\n",
       "             ', Light Luxury, Smooth Net, Metal': 1,\n",
       "             ', Japanese, Gold Foil, Metal': 1,\n",
       "             ', Mediterranean, Smooth Net, Composition': 1,\n",
       "             ', Modern, Smooth Net, Plywood': 1,\n",
       "             ', Neoclassical, Inlay Gold Carve, Others': 1,\n",
       "             ', Minimalist, Lines, Plywood': 1})"
      ]
     },
     "execution_count": 8,
     "metadata": {},
     "output_type": "execute_result"
    }
   ],
   "source": [
    "freq = defaultdict(int)\n",
    "for m in meta:\n",
    "    dict = np.load(m['data_path'], allow_pickle=True)[()]\n",
    "    typ = dict['text'][0]\n",
    "    freq[typ] += 1\n",
    "\n",
    "freq"
   ]
  },
  {
   "cell_type": "code",
   "execution_count": 58,
   "id": "7e665392-9b66-4eea-9618-578cd7226ec7",
   "metadata": {},
   "outputs": [
    {
     "data": {
      "text/plain": [
       "[('Pendant Lamp', 1152),\n",
       " (', Modern', 991),\n",
       " ('Three-Seat / Multi-seat Sofa', 852),\n",
       " ('armchair', 751),\n",
       " ('Corner/Side Table', 718),\n",
       " ('Coffee Table', 684),\n",
       " ('Lounge Chair / Cafe Chair / Office Chair', 585),\n",
       " ('Footstool / Sofastool / Bed End Stool / Stool', 570),\n",
       " ('Dining Chair', 543),\n",
       " ('Nightstand', 538),\n",
       " ('TV Stand', 529),\n",
       " ('Dining Table', 517),\n",
       " ('Ceiling Lamp', 512),\n",
       " ('Drawer Chest / Corner cabinet', 509),\n",
       " ('Wardrobe', 476),\n",
       " ('Loveseat Sofa', 472),\n",
       " ('Sideboard / Side Cabinet / Console Table', 458),\n",
       " ('King-size Bed', 440),\n",
       " ('Bookcase / jewelry Armoire', 439),\n",
       " ('Desk', 356),\n",
       " ('Children Cabinet', 352),\n",
       " ('Lounge Chair / Book-chair / Computer Chair', 325),\n",
       " ('Shelf', 275),\n",
       " ('Floor Lamp', 252),\n",
       " ('L-shaped Sofa', 245),\n",
       " ('Sideboard / Side Cabinet / Console', 244),\n",
       " (', Others', 205),\n",
       " ('Bed Frame', 203),\n",
       " ('Barstool', 191),\n",
       " ('Dressing Table', 142),\n",
       " ('Double Bed', 141),\n",
       " ('Single bed', 135),\n",
       " ('Three-Seat / Multi-person sofa', 129),\n",
       " ('Tea Table', 120),\n",
       " ('Kids Bed', 118),\n",
       " ('Wine Cabinet', 114),\n",
       " ('Lazy Sofa', 112),\n",
       " (', Nordic', 111),\n",
       " ('Wine Cooler', 111),\n",
       " (', New Chinese', 106),\n",
       " ('Round End Table', 99),\n",
       " ('Shoe Cabinet', 83),\n",
       " ('Dressing Chair', 75),\n",
       " (', European Classic', 72),\n",
       " ('Bunk Bed', 66),\n",
       " (', Neoclassical', 53),\n",
       " ('Bar', 47),\n",
       " (', American Country', 30),\n",
       " ('Folding chair', 26),\n",
       " ('Chaise Longue Sofa', 25),\n",
       " ('Two-seat Sofa', 22),\n",
       " (', Southeast Asia', 19),\n",
       " (', Minimalist', 16),\n",
       " ('Classic Chinese Chair', 16),\n",
       " (', Japanese', 15),\n",
       " ('Hanging Chair', 14),\n",
       " ('Couch Bed', 14),\n",
       " (', Mediterranean', 13),\n",
       " ('U-shaped Sofa', 10),\n",
       " (', Modern, Smooth Net, Composition', 8),\n",
       " (', Industrial', 6),\n",
       " ('Wall Lamp', 5),\n",
       " (', Modern, Smooth Net, Cloth', 5),\n",
       " (', Vintage/Retro', 4),\n",
       " (', Korean', 4),\n",
       " (', Industrial, Smooth Net, Composition', 3),\n",
       " (', Modern, Smooth Net, Leather', 3),\n",
       " (', Industrial, Chinese Pattern, Metal', 3),\n",
       " (', Light Luxury, Gold Foil, Metal', 2),\n",
       " (', Industrial, Wrought Iron, Metal', 2),\n",
       " (', Industrial, Smooth Net, Metal', 2),\n",
       " (', Korean, Smooth Net, Composition', 2),\n",
       " (', Japanese, Texture Mark, Plywood', 2),\n",
       " (', Minimalist, Smooth Net, Cloth', 2),\n",
       " (', Southeast Asia, Chinese Pattern, Solid Wood', 2),\n",
       " (', Modern, Lines, Cloth', 2),\n",
       " (', Korean, Wooden Vertical Texture, Composition', 1),\n",
       " (', Minimalist, Rivet, Metal', 1),\n",
       " (', Light Luxury, Gold Foil, Cloth', 1),\n",
       " (', Ming Qing, Floral, Others', 1),\n",
       " (', Korean, Wooden Vertical Texture, Others', 1),\n",
       " (', Industrial, Wrought Iron, Others', 1),\n",
       " (', Mediterranean, Smooth Net, Leather', 1),\n",
       " (', Mediterranean, Wooden Vertical Texture, Composition', 1),\n",
       " (', Industrial, Texture Mark, Stone', 1),\n",
       " (', Modern, Gold Foil, Composition', 1),\n",
       " (', Industrial, Gold Foil, Stone', 1),\n",
       " (', Others, Inlay Gold Carve, Solid Wood', 1),\n",
       " (', Neoclassical, Inlay Gold Carve, Solid Wood', 1),\n",
       " (', Industrial, Chinese Pattern, Bamboo Rattan', 1),\n",
       " (', Light Luxury, Soft Case, Suede', 1),\n",
       " (', Neoclassical, Floral, Solid Wood', 1),\n",
       " (', Minimalist, Wooden Vertical Texture, Composition', 1),\n",
       " (', Ming Qing, Smooth Net, Plywood', 1),\n",
       " (', Minimalist, Texture Mark, Stone', 1),\n",
       " (', Modern, Wooden Vertical Texture, Plywood', 1),\n",
       " (', American Country, Texture Mark, Solid Wood', 1),\n",
       " (', Ming Qing, Texture Mark, Solid Wood', 1),\n",
       " (', American Country, Gold Foil, Composition', 1),\n",
       " (', Mediterranean, Inlay Gold Carve, Solid Wood', 1),\n",
       " (', Vintage/Retro, Texture Mark, Solid Wood', 1),\n",
       " (', Modern, Striped Grid, Cloth', 1),\n",
       " (', Neoclassical, Wooden Vertical Texture, Solid Wood', 1),\n",
       " (', American Country, Smooth Net, Cloth', 1),\n",
       " (', Minimalist, Gold Foil, Composition', 1),\n",
       " (', Japanese, Inlay Gold Carve, Solid Wood', 1),\n",
       " (', Southeast Asia, Texture Mark, Solid Wood', 1),\n",
       " (', Modern, Floral, Cloth', 1),\n",
       " (', Minimalist, Graffiti Ink Stain, Others', 1),\n",
       " (', Minimalist, Striped Grid, Cloth', 1),\n",
       " (', Light Luxury, Lines, Composition', 1),\n",
       " (', Industrial, Chinese Pattern, Suede', 1),\n",
       " (', Minimalist, Smooth Net, Composition', 1),\n",
       " (', Japanese, Floral, Composition', 1),\n",
       " (', Vintage/Retro, Smooth Net, Composition', 1),\n",
       " (', Korean, Wooden Vertical Texture, Solid Wood', 1),\n",
       " (', Ming Qing, Cartoon, Solid Wood', 1),\n",
       " (', Korean, Lines, Leather', 1),\n",
       " (', Japanese, Gold Foil, Plywood', 1),\n",
       " (', Industrial, Granite Texture, Metal', 1),\n",
       " (', Industrial, Striped Grid, Others', 1),\n",
       " (', Japanese, Lines, Cloth', 1),\n",
       " (', American Country, Striped Grid, Cloth', 1),\n",
       " (', Minimalist, Wrought Iron, Others', 1),\n",
       " (', Light Luxury, Gold Foil, Solid Wood', 1),\n",
       " (', Minimalist, Smooth Net, Metal', 1),\n",
       " (', Southeast Asia, Gold Foil, Composition', 1),\n",
       " (', Minimalist, Smooth Net, Stone', 1),\n",
       " (', Minimalist, Smooth Net, Solid Wood', 1),\n",
       " (', Minimalist, Texture Mark, Solid Wood', 1),\n",
       " (', Vintage/Retro, Smooth Net, Leather', 1),\n",
       " (', Industrial, Wrought Iron, Cloth', 1),\n",
       " (', Others, Smooth Net, Glass', 1),\n",
       " (', New Chinese, Smooth Net, Solid Wood', 1),\n",
       " (', Light Luxury', 1),\n",
       " (', Korean, Wooden Vertical Texture, Plywood', 1),\n",
       " (', Industrial, Wooden Vertical Texture, Plywood', 1),\n",
       " (', Korean, Wrought Iron, Cloth', 1),\n",
       " (', Light Luxury, Smooth Net, Metal', 1),\n",
       " (', Japanese, Gold Foil, Metal', 1),\n",
       " (', Mediterranean, Smooth Net, Composition', 1),\n",
       " (', Modern, Smooth Net, Plywood', 1),\n",
       " (', Neoclassical, Inlay Gold Carve, Others', 1),\n",
       " (', Minimalist, Lines, Plywood', 1)]"
      ]
     },
     "execution_count": 58,
     "metadata": {},
     "output_type": "execute_result"
    }
   ],
   "source": [
    "sorted(freq.items(), key=lambda x: x[1], reverse=True)"
   ]
  },
  {
   "cell_type": "code",
   "execution_count": 9,
   "id": "e142b155-3bef-401c-a2c7-1b8bb161894f",
   "metadata": {},
   "outputs": [
    {
     "data": {
      "text/plain": [
       "16563"
      ]
     },
     "execution_count": 9,
     "metadata": {},
     "output_type": "execute_result"
    }
   ],
   "source": [
    "data = []\n",
    "for m in meta:\n",
    "    dict = np.load(m['data_path'], allow_pickle=True)[()]\n",
    "    data.append(dict)\n",
    "\n",
    "len(data)"
   ]
  },
  {
   "cell_type": "code",
   "execution_count": 10,
   "id": "536c53f7-08af-42f8-a0c0-5365ea3d5684",
   "metadata": {},
   "outputs": [],
   "source": [
    "ct = list(filter(lambda x: x['text'][0] == 'Coffee Table', data))"
   ]
  },
  {
   "cell_type": "code",
   "execution_count": 11,
   "id": "cea99c4f-c5d2-4d79-86e3-102df28e2a90",
   "metadata": {},
   "outputs": [],
   "source": [
    "path = data_path / ct[0]['id'] / 'colors_4.png'\n",
    "image = np.array(Image.open(path))"
   ]
  },
  {
   "cell_type": "code",
   "execution_count": 19,
   "id": "1614567c-f6d5-47ff-8450-95ea2c992690",
   "metadata": {},
   "outputs": [
    {
     "data": {
      "text/plain": [
       "(336, 336, 4)"
      ]
     },
     "execution_count": 19,
     "metadata": {},
     "output_type": "execute_result"
    }
   ],
   "source": [
    "image.shape"
   ]
  },
  {
   "cell_type": "code",
   "execution_count": 12,
   "id": "46c21bd3-07f6-484b-938b-e89bae906ffa",
   "metadata": {},
   "outputs": [],
   "source": [
    "import matplotlib.pyplot as plt"
   ]
  },
  {
   "cell_type": "code",
   "execution_count": 13,
   "id": "aacbaca8-617b-45ad-9f4c-b68f4ce06c51",
   "metadata": {},
   "outputs": [
    {
     "data": {
      "text/plain": [
       "<matplotlib.image.AxesImage at 0x7f3ceb2fa7f0>"
      ]
     },
     "execution_count": 13,
     "metadata": {},
     "output_type": "execute_result"
    },
    {
     "data": {
      "image/png": "[encoded data removed]",
      "text/plain": [
       "<Figure size 640x480 with 1 Axes>"
      ]
     },
     "metadata": {},
     "output_type": "display_data"
    }
   ],
   "source": [
    "plt.imshow(image)"
   ]
  },
  {
   "cell_type": "code",
   "execution_count": 22,
   "id": "b3991556-9a92-4c06-b4a4-f2aa877e0801",
   "metadata": {},
   "outputs": [],
   "source": [
    "mask = (image[:, :, 3] > 0).astype(int)"
   ]
  },
  {
   "cell_type": "code",
   "execution_count": 26,
   "id": "fbfbc75f-3007-4105-a76a-bd813f9a3417",
   "metadata": {},
   "outputs": [
    {
     "data": {
      "text/plain": [
       "12043"
      ]
     },
     "execution_count": 26,
     "metadata": {},
     "output_type": "execute_result"
    }
   ],
   "source": [
    "np.count_nonzero(mask)"
   ]
  },
  {
   "cell_type": "code",
   "execution_count": null,
   "id": "35660575-9221-480f-9f42-b2aa8152d175",
   "metadata": {},
   "outputs": [],
   "source": []
  }
 ],
 "metadata": {
  "kernelspec": {
   "display_name": "Python 3 (ipykernel)",
   "language": "python",
   "name": "python3"
  },
  "language_info": {
   "codemirror_mode": {
    "name": "ipython",
    "version": 3
   },
   "file_extension": ".py",
   "mimetype": "text/x-python",
   "name": "python",
   "nbconvert_exporter": "python",
   "pygments_lexer": "ipython3",
   "version": "3.9.18"
  }
 },
 "nbformat": 4,
 "nbformat_minor": 5
}
